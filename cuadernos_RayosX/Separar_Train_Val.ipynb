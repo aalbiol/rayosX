{
 "cells": [
  {
   "cell_type": "code",
   "execution_count": 51,
   "metadata": {},
   "outputs": [],
   "source": [
    "import pandas as pd\n",
    "from glob import glob\n",
    "import torch\n",
    "import os"
   ]
  },
  {
   "cell_type": "code",
   "execution_count": 52,
   "metadata": {},
   "outputs": [
    {
     "name": "stdout",
     "output_type": "stream",
     "text": [
      "87\n",
      "['/mnt/d/mscanData/rayosX/pollo/20240708_074036_entremusloTestigos/images_150/entremusloTestigos_00001.png', '/mnt/d/mscanData/rayosX/pollo/20240708_074036_entremusloTestigos/images_150/entremusloTestigos_00002.png', '/mnt/d/mscanData/rayosX/pollo/20240708_074036_entremusloTestigos/images_150/entremusloTestigos_00003.png', '/mnt/d/mscanData/rayosX/pollo/20240708_074036_entremusloTestigos/images_150/entremusloTestigos_00004.png', '/mnt/d/mscanData/rayosX/pollo/20240708_074036_entremusloTestigos/images_150/entremusloTestigos_00005.png', '/mnt/d/mscanData/rayosX/pollo/20240708_074036_entremusloTestigos/images_150/entremusloTestigos_00006.png', '/mnt/d/mscanData/rayosX/pollo/20240708_074036_entremusloTestigos/images_150/entremusloTestigos_00007.png', '/mnt/d/mscanData/rayosX/pollo/20240708_074036_entremusloTestigos/images_150/entremusloTestigos_00008.png', '/mnt/d/mscanData/rayosX/pollo/20240708_074036_entremusloTestigos/images_150/entremusloTestigos_00009.png', '/mnt/d/mscanData/rayosX/pollo/20240708_074036_entremusloTestigos/images_150/entremusloTestigos_00010.png', '/mnt/d/mscanData/rayosX/pollo/20240708_074036_entremusloTestigos/images_150/entremusloTestigos_00011.png', '/mnt/d/mscanData/rayosX/pollo/20240708_074036_entremusloTestigos/images_150/entremusloTestigos_00012.png', '/mnt/d/mscanData/rayosX/pollo/20240708_074036_entremusloTestigos/images_150/entremusloTestigos_00013.png', '/mnt/d/mscanData/rayosX/pollo/20240708_074036_entremusloTestigos/images_150/entremusloTestigos_00014.png', '/mnt/d/mscanData/rayosX/pollo/20240708_074036_entremusloTestigos/images_150/entremusloTestigos_00015.png', '/mnt/d/mscanData/rayosX/pollo/20240708_074036_entremusloTestigos/images_150/entremusloTestigos_00016.png', '/mnt/d/mscanData/rayosX/pollo/20240708_074036_entremusloTestigos/images_150/entremusloTestigos_00017.png', '/mnt/d/mscanData/rayosX/pollo/20240708_074036_entremusloTestigos/images_150/entremusloTestigos_00018.png', '/mnt/d/mscanData/rayosX/pollo/20240708_074036_entremusloTestigos/images_150/entremusloTestigos_00019.png', '/mnt/d/mscanData/rayosX/pollo/20240708_074036_entremusloTestigos/images_150/entremusloTestigos_00020.png', '/mnt/d/mscanData/rayosX/pollo/20240708_074036_entremusloTestigos/images_150/entremusloTestigos_00021.png', '/mnt/d/mscanData/rayosX/pollo/20240708_074036_entremusloTestigos/images_150/entremusloTestigos_00022.png', '/mnt/d/mscanData/rayosX/pollo/20240708_074036_entremusloTestigos/images_150/entremusloTestigos_00023.png', '/mnt/d/mscanData/rayosX/pollo/20240708_074036_entremusloTestigos/images_150/entremusloTestigos_00024.png', '/mnt/d/mscanData/rayosX/pollo/20240708_074036_entremusloTestigos/images_150/entremusloTestigos_00025.png', '/mnt/d/mscanData/rayosX/pollo/20240708_074036_entremusloTestigos/images_150/entremusloTestigos_00026.png', '/mnt/d/mscanData/rayosX/pollo/20240708_074036_entremusloTestigos/images_150/entremusloTestigos_00027.png', '/mnt/d/mscanData/rayosX/pollo/20240708_074036_entremusloTestigos/images_150/entremusloTestigos_00028.png', '/mnt/d/mscanData/rayosX/pollo/20240708_074036_entremusloTestigos/images_150/entremusloTestigos_00029.png', '/mnt/d/mscanData/rayosX/pollo/20240708_074036_entremusloTestigos/images_150/entremusloTestigos_00030.png', '/mnt/d/mscanData/rayosX/pollo/20240708_074036_entremusloTestigos/images_150/entremusloTestigos_00031.png', '/mnt/d/mscanData/rayosX/pollo/20240708_074036_entremusloTestigos/images_150/entremusloTestigos_00032.png', '/mnt/d/mscanData/rayosX/pollo/20240708_074036_entremusloTestigos/images_150/entremusloTestigos_00033.png', '/mnt/d/mscanData/rayosX/pollo/20240708_074036_entremusloTestigos/images_150/entremusloTestigos_00034.png', '/mnt/d/mscanData/rayosX/pollo/20240708_074036_entremusloTestigos/images_150/entremusloTestigos_00035.png', '/mnt/d/mscanData/rayosX/pollo/20240708_074036_entremusloTestigos/images_150/entremusloTestigos_00036.png', '/mnt/d/mscanData/rayosX/pollo/20240708_074036_entremusloTestigos/images_150/entremusloTestigos_00037.png', '/mnt/d/mscanData/rayosX/pollo/20240708_074036_entremusloTestigos/images_150/entremusloTestigos_00038.png', '/mnt/d/mscanData/rayosX/pollo/20240708_074036_entremusloTestigos/images_150/entremusloTestigos_00039.png', '/mnt/d/mscanData/rayosX/pollo/20240708_074036_entremusloTestigos/images_150/entremusloTestigos_00040.png', '/mnt/d/mscanData/rayosX/pollo/20240708_074036_entremusloTestigos/images_150/entremusloTestigos_00041.png', '/mnt/d/mscanData/rayosX/pollo/20240708_074036_entremusloTestigos/images_150/entremusloTestigos_00042.png', '/mnt/d/mscanData/rayosX/pollo/20240708_074036_entremusloTestigos/images_150/entremusloTestigos_00043.png', '/mnt/d/mscanData/rayosX/pollo/20240708_074036_entremusloTestigos/images_150/entremusloTestigos_00044.png', '/mnt/d/mscanData/rayosX/pollo/20240708_074036_entremusloTestigos/images_150/entremusloTestigos_00045.png', '/mnt/d/mscanData/rayosX/pollo/20240708_074036_entremusloTestigos/images_150/entremusloTestigos_00046.png', '/mnt/d/mscanData/rayosX/pollo/20240708_074036_entremusloTestigos/images_150/entremusloTestigos_00047.png', '/mnt/d/mscanData/rayosX/pollo/20240708_074036_entremusloTestigos/images_150/entremusloTestigos_00048.png', '/mnt/d/mscanData/rayosX/pollo/20240708_074036_entremusloTestigos/images_150/entremusloTestigos_00049.png', '/mnt/d/mscanData/rayosX/pollo/20240708_074036_entremusloTestigos/images_150/entremusloTestigos_00050.png', '/mnt/d/mscanData/rayosX/pollo/20240708_074036_entremusloTestigos/images_150/entremusloTestigos_00051.png', '/mnt/d/mscanData/rayosX/pollo/20240708_074036_entremusloTestigos/images_150/entremusloTestigos_00052.png', '/mnt/d/mscanData/rayosX/pollo/20240708_074036_entremusloTestigos/images_150/entremusloTestigos_00053.png', '/mnt/d/mscanData/rayosX/pollo/20240708_074036_entremusloTestigos/images_150/entremusloTestigos_00054.png', '/mnt/d/mscanData/rayosX/pollo/20240708_074036_entremusloTestigos/images_150/entremusloTestigos_00055.png', '/mnt/d/mscanData/rayosX/pollo/20240708_074036_entremusloTestigos/images_150/entremusloTestigos_00056.png', '/mnt/d/mscanData/rayosX/pollo/20240708_074036_entremusloTestigos/images_150/entremusloTestigos_00057.png', '/mnt/d/mscanData/rayosX/pollo/20240708_074036_entremusloTestigos/images_150/entremusloTestigos_00058.png', '/mnt/d/mscanData/rayosX/pollo/20240708_074036_entremusloTestigos/images_150/entremusloTestigos_00059.png', '/mnt/d/mscanData/rayosX/pollo/20240708_074036_entremusloTestigos/images_150/entremusloTestigos_00060.png', '/mnt/d/mscanData/rayosX/pollo/20240708_074036_entremusloTestigos/images_150/entremusloTestigos_00061.png', '/mnt/d/mscanData/rayosX/pollo/20240708_074036_entremusloTestigos/images_150/entremusloTestigos_00062.png', '/mnt/d/mscanData/rayosX/pollo/20240708_074036_entremusloTestigos/images_150/entremusloTestigos_00063.png', '/mnt/d/mscanData/rayosX/pollo/20240708_074036_entremusloTestigos/images_150/entremusloTestigos_00064.png', '/mnt/d/mscanData/rayosX/pollo/20240708_074036_entremusloTestigos/images_150/entremusloTestigos_00065.png', '/mnt/d/mscanData/rayosX/pollo/20240708_074036_entremusloTestigos/images_150/entremusloTestigos_00066.png', '/mnt/d/mscanData/rayosX/pollo/20240708_074036_entremusloTestigos/images_150/entremusloTestigos_00067.png', '/mnt/d/mscanData/rayosX/pollo/20240708_074036_entremusloTestigos/images_150/entremusloTestigos_00068.png', '/mnt/d/mscanData/rayosX/pollo/20240708_074036_entremusloTestigos/images_150/entremusloTestigos_00069.png', '/mnt/d/mscanData/rayosX/pollo/20240708_074036_entremusloTestigos/images_150/entremusloTestigos_00070.png', '/mnt/d/mscanData/rayosX/pollo/20240708_074036_entremusloTestigos/images_150/entremusloTestigos_00071.png', '/mnt/d/mscanData/rayosX/pollo/20240708_074036_entremusloTestigos/images_150/entremusloTestigos_00072.png', '/mnt/d/mscanData/rayosX/pollo/20240708_074036_entremusloTestigos/images_150/entremusloTestigos_00073.png', '/mnt/d/mscanData/rayosX/pollo/20240708_074036_entremusloTestigos/images_150/entremusloTestigos_00074.png', '/mnt/d/mscanData/rayosX/pollo/20240708_074036_entremusloTestigos/images_150/entremusloTestigos_00075.png', '/mnt/d/mscanData/rayosX/pollo/20240708_074036_entremusloTestigos/images_150/entremusloTestigos_00076.png', '/mnt/d/mscanData/rayosX/pollo/20240708_074036_entremusloTestigos/images_150/entremusloTestigos_00077.png', '/mnt/d/mscanData/rayosX/pollo/20240708_074036_entremusloTestigos/images_150/entremusloTestigos_00078.png', '/mnt/d/mscanData/rayosX/pollo/20240708_074036_entremusloTestigos/images_150/entremusloTestigos_00079.png', '/mnt/d/mscanData/rayosX/pollo/20240708_074036_entremusloTestigos/images_150/entremusloTestigos_00080.png', '/mnt/d/mscanData/rayosX/pollo/20240708_074036_entremusloTestigos/images_150/entremusloTestigos_00081.png', '/mnt/d/mscanData/rayosX/pollo/20240708_074036_entremusloTestigos/images_150/entremusloTestigos_00082.png', '/mnt/d/mscanData/rayosX/pollo/20240708_074036_entremusloTestigos/images_150/entremusloTestigos_00083.png', '/mnt/d/mscanData/rayosX/pollo/20240708_074036_entremusloTestigos/images_150/entremusloTestigos_00084.png', '/mnt/d/mscanData/rayosX/pollo/20240708_074036_entremusloTestigos/images_150/entremusloTestigos_00085.png', '/mnt/d/mscanData/rayosX/pollo/20240708_074036_entremusloTestigos/images_150/entremusloTestigos_00086.png', '/mnt/d/mscanData/rayosX/pollo/20240708_074036_entremusloTestigos/images_150/entremusloTestigos_00087.png']\n",
      "20240708_074036_entremusloTestigos.txt\n"
     ]
    }
   ],
   "source": [
    "dir_rayosX=\"mscanData/rayosX/pollo/20240708_074036_entremusloTestigos/images_150\"\n",
    "user=os.getenv('USER')\n",
    "if user=='csanchis':\n",
    "    dir_rayosX=os.path.join(\"/mnt/d\",dir_rayosX)\n",
    "elif user==\"aalbiol\":\n",
    "    dir_rayosX=os.path.join(\"/home/aalbiol/owc\",dir_rayosX)\n",
    "\n",
    "nombres=glob(dir_rayosX+\"/*.png\")\n",
    "print(len(nombres))\n",
    "print(nombres)\n",
    "dir_lista=nombres[0].split('/')[-3]+'.txt'\n",
    "print(dir_lista)\n"
   ]
  },
  {
   "cell_type": "code",
   "execution_count": 53,
   "metadata": {},
   "outputs": [
    {
     "name": "stdout",
     "output_type": "stream",
     "text": [
      "len(train) = 61\n",
      "len(val) = 17\n",
      "len(test) = 9\n"
     ]
    }
   ],
   "source": [
    "names=list(set(nombres))\n",
    "names=pd.Series(names)\n",
    "train=names.sample(frac=0.7)\n",
    "print('len(train) =',len(train))\n",
    "resto=names.drop(train.index) \n",
    "val=resto.sample(frac=0.65)\n",
    "test=resto.drop(val.index)\n",
    "print('len(val) =',len(val))\n",
    "print('len(test) =',len(test))"
   ]
  },
  {
   "cell_type": "code",
   "execution_count": 54,
   "metadata": {},
   "outputs": [],
   "source": [
    "train_dir='../listas_rayosX/buenos/train/'\n",
    "if not os.path.exists(train_dir):\n",
    "    os.makedirs(train_dir)\n",
    "with open(train_dir+dir_lista,'w') as file:\n",
    "    for nombre in train:\n",
    "        file.write(os.path.basename(nombre)+'\\n')"
   ]
  },
  {
   "cell_type": "code",
   "execution_count": 55,
   "metadata": {},
   "outputs": [],
   "source": [
    "val_dir='../listas_rayosX/buenos/val/'\n",
    "if not os.path.exists(val_dir):\n",
    "    os.makedirs(val_dir)\n",
    "with open(val_dir+dir_lista,'w') as file:\n",
    "    for nombre in val:\n",
    "        file.write(os.path.basename(nombre)+'\\n')"
   ]
  },
  {
   "cell_type": "code",
   "execution_count": 56,
   "metadata": {},
   "outputs": [],
   "source": [
    "test_dir='../listas_rayosX/buenos/test/'\n",
    "if not os.path.exists(test_dir):\n",
    "    os.makedirs(test_dir)\n",
    "with open(test_dir+dir_lista,'w') as file:\n",
    "    for nombre in test:\n",
    "        file.write(os.path.basename(nombre)+'\\n')"
   ]
  }
 ],
 "metadata": {
  "kernelspec": {
   "display_name": "dnn5",
   "language": "python",
   "name": "python3"
  },
  "language_info": {
   "codemirror_mode": {
    "name": "ipython",
    "version": 3
   },
   "file_extension": ".py",
   "mimetype": "text/x-python",
   "name": "python",
   "nbconvert_exporter": "python",
   "pygments_lexer": "ipython3",
   "version": "3.11.3"
  }
 },
 "nbformat": 4,
 "nbformat_minor": 2
}
