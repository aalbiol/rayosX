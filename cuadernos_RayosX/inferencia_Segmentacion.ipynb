{
 "cells": [
  {
   "cell_type": "code",
   "execution_count": 1,
   "metadata": {},
   "outputs": [],
   "source": [
    "#autoreload\n",
    "%load_ext autoreload\n",
    "\n",
    "%autoreload 2\n",
    "\n",
    "import sys\n",
    "sys.path.append('../')\n",
    "import torch\n",
    "import numpy as np\n",
    "\n",
    "import dataset\n",
    "import json\n",
    "\n",
    "from pl_model import SegmentadorMonoclase\n",
    "import os\n",
    "from glob import glob\n",
    "import matplotlib.pyplot as plt"
   ]
  },
  {
   "cell_type": "code",
   "execution_count": 2,
   "metadata": {},
   "outputs": [],
   "source": [
    "json_normalizacion=\"../modelos/normalization_rayosX.json\"\n",
    "# Read json normalization file\n",
    "with open(json_normalizacion, 'r') as file:\n",
    "    normalizacion = json.load(file)\n",
    "\n",
    "\n",
    "media= normalizacion[\"medias_norm\"]\n",
    "dstd= normalizacion[\"stds_norm\"]\n",
    "\n",
    "device = torch.device(\"cuda\" if torch.cuda.is_available() else \"cpu\")\n"
   ]
  },
  {
   "cell_type": "code",
   "execution_count": 3,
   "metadata": {},
   "outputs": [],
   "source": [
    "def normalizacion_imagen(imgtensor,normalizacion):\n",
    "    media=torch.tensor(normalizacion['medias_norm']).unsqueeze(1).unsqueeze(2)\n",
    "    dstd=torch.tensor(normalizacion['stds_norm']).unsqueeze(1).unsqueeze(2)\n",
    "    imgnormalizado =(imgtensor-media)\n",
    "    return imgnormalizado\n",
    "\n",
    "def predict_image(imgname,normalizacion,modelo,device):\n",
    "    imgtensor = dataset.read_image_rayosX(imgname,2**16-1)\n",
    "    \n",
    "    imgnormalizado=imgtensor\n",
    "    imgnormalizado=imgnormalizado.unsqueeze(0).to(device)\n",
    "   \n",
    "    modelo.eval()\n",
    "    with torch.no_grad():\n",
    "         logits = modelo(imgnormalizado)\n",
    "    logits= logits[0,0,:,:]\n",
    "    probs=torch.nn.functional.sigmoid(logits)\n",
    "    probs=probs.cpu().numpy()         \n",
    "    return probs"
   ]
  },
  {
   "cell_type": "code",
   "execution_count": 4,
   "metadata": {},
   "outputs": [
    {
     "name": "stdout",
     "output_type": "stream",
     "text": [
      "SegmentadorMonoclase Num epochs: None\n",
      "\n",
      "***** Warning. Version  solicitada deeplabv3_resnet50  no contemplada. Usando deeplabv3_resnet50\n",
      "MODEL NUM CHHANELS IN 3\n",
      "DeepLab Num channels_in: 3\n"
     ]
    }
   ],
   "source": [
    "modelo= SegmentadorMonoclase(\n",
    "                            optimizer = 'sgd',  \n",
    "                            num_channels_in=3,\n",
    "                            model_version=\"deeplabv3_resnet50 \",\n",
    "                          )\n",
    "fichmodelo=\"../out_models/segmentadorRayosXmonocanal_sinlogaritmo.ckpt\"\n",
    "checkpoint = torch.load(fichmodelo)\n",
    "modelo.load_state_dict(checkpoint['state_dict'])\n",
    "_=modelo.to(device)\n"
   ]
  },
  {
   "cell_type": "code",
   "execution_count": 14,
   "metadata": {},
   "outputs": [
    {
     "name": "stdout",
     "output_type": "stream",
     "text": [
      "Number of input files: 153\n",
      "First file: /home/aalbiol/owc/mscanData/rayosX/pollo/recortes_good/LOWpechugasTestigo_00015.png\n"
     ]
    }
   ],
   "source": [
    "usuario=os.getenv('USER')\n",
    "home=os.getenv('HOME')\n",
    "mscanData= home + '/owc/mscanData/' if usuario == 'aalbiol' else home + 'mscanData/'\n",
    "\n",
    "dir_recortes_in=mscanData + 'rayosX/pollo/recortes_good/'\n",
    "input_files=glob(dir_recortes_in + '*estigo*.png')\n",
    "print('Number of input files:', len(input_files))   \n",
    "print('First file:', input_files[0])"
   ]
  },
  {
   "cell_type": "code",
   "execution_count": 5,
   "metadata": {},
   "outputs": [
    {
     "ename": "NameError",
     "evalue": "name 'input_files' is not defined",
     "output_type": "error",
     "traceback": [
      "\u001b[0;31m---------------------------------------------------------------------------\u001b[0m",
      "\u001b[0;31mNameError\u001b[0m                                 Traceback (most recent call last)",
      "Cell \u001b[0;32mIn[5], line 1\u001b[0m\n\u001b[0;32m----> 1\u001b[0m imgtensor\u001b[38;5;241m=\u001b[39mimgtensor \u001b[38;5;241m=\u001b[39m dataset\u001b[38;5;241m.\u001b[39mread_image_rayosX(\u001b[43minput_files\u001b[49m[\u001b[38;5;241m17\u001b[39m],\u001b[38;5;241m2\u001b[39m\u001b[38;5;241m*\u001b[39m\u001b[38;5;241m*\u001b[39m\u001b[38;5;241m16\u001b[39m\u001b[38;5;241m-\u001b[39m\u001b[38;5;241m1\u001b[39m)\n\u001b[1;32m      2\u001b[0m \u001b[38;5;28mprint\u001b[39m(\u001b[38;5;124m'\u001b[39m\u001b[38;5;124mImage tensor shape:\u001b[39m\u001b[38;5;124m'\u001b[39m, imgtensor\u001b[38;5;241m.\u001b[39mshape)\n\u001b[1;32m      3\u001b[0m \u001b[38;5;28mprint\u001b[39m(\u001b[38;5;124m'\u001b[39m\u001b[38;5;124mImage tensor mean:\u001b[39m\u001b[38;5;124m'\u001b[39m, imgtensor\u001b[38;5;241m.\u001b[39mmean(dim\u001b[38;5;241m=\u001b[39m(\u001b[38;5;241m1\u001b[39m,\u001b[38;5;241m2\u001b[39m)))\n",
      "\u001b[0;31mNameError\u001b[0m: name 'input_files' is not defined"
     ]
    }
   ],
   "source": [
    "imgtensor=imgtensor = dataset.read_image_rayosX(input_files[17],2**16-1)\n",
    "print('Image tensor shape:', imgtensor.shape)\n",
    "print('Image tensor mean:', imgtensor.mean(dim=(1,2)))\n",
    "\n"
   ]
  },
  {
   "cell_type": "code",
   "execution_count": 6,
   "metadata": {},
   "outputs": [
    {
     "ename": "NameError",
     "evalue": "name 'input_files' is not defined",
     "output_type": "error",
     "traceback": [
      "\u001b[0;31m---------------------------------------------------------------------------\u001b[0m",
      "\u001b[0;31mNameError\u001b[0m                                 Traceback (most recent call last)",
      "Cell \u001b[0;32mIn[6], line 2\u001b[0m\n\u001b[1;32m      1\u001b[0m k\u001b[38;5;241m=\u001b[39m\u001b[38;5;241m0\u001b[39m\n\u001b[0;32m----> 2\u001b[0m probs\u001b[38;5;241m=\u001b[39mpredict_image(\u001b[43minput_files\u001b[49m[k],normalizacion,modelo,device)\n\u001b[1;32m      3\u001b[0m _\u001b[38;5;241m=\u001b[39mplt\u001b[38;5;241m.\u001b[39msubplot(\u001b[38;5;241m1\u001b[39m,\u001b[38;5;241m2\u001b[39m,\u001b[38;5;241m1\u001b[39m)\n\u001b[1;32m      4\u001b[0m _\u001b[38;5;241m=\u001b[39mplt\u001b[38;5;241m.\u001b[39mimshow(probs,clim\u001b[38;5;241m=\u001b[39m(\u001b[38;5;241m0\u001b[39m,\u001b[38;5;241m1\u001b[39m),cmap\u001b[38;5;241m=\u001b[39m\u001b[38;5;124m'\u001b[39m\u001b[38;5;124mgray\u001b[39m\u001b[38;5;124m'\u001b[39m)\n",
      "\u001b[0;31mNameError\u001b[0m: name 'input_files' is not defined"
     ]
    }
   ],
   "source": [
    "k=0\n",
    "probs=predict_image(input_files[k],normalizacion,modelo,device)\n",
    "_=plt.subplot(1,2,1)\n",
    "_=plt.imshow(probs,clim=(0,1),cmap='gray')\n",
    "_=plt.title('Probabilidades')\n",
    "_=plt.subplot(1,2,2)\n",
    "img= plt.imread(input_files[k])\n",
    "_=plt.imshow(img)"
   ]
  },
  {
   "cell_type": "code",
   "execution_count": 7,
   "metadata": {},
   "outputs": [
    {
     "ename": "NameError",
     "evalue": "name 'input_files' is not defined",
     "output_type": "error",
     "traceback": [
      "\u001b[0;31m---------------------------------------------------------------------------\u001b[0m",
      "\u001b[0;31mNameError\u001b[0m                                 Traceback (most recent call last)",
      "Cell \u001b[0;32mIn[7], line 2\u001b[0m\n\u001b[1;32m      1\u001b[0m k\u001b[38;5;241m=\u001b[39m\u001b[38;5;241m2\u001b[39m\n\u001b[0;32m----> 2\u001b[0m probs\u001b[38;5;241m=\u001b[39mpredict_image(\u001b[43minput_files\u001b[49m[k],normalizacion,modelo,device)\n\u001b[1;32m      3\u001b[0m _\u001b[38;5;241m=\u001b[39mplt\u001b[38;5;241m.\u001b[39msubplot(\u001b[38;5;241m1\u001b[39m,\u001b[38;5;241m2\u001b[39m,\u001b[38;5;241m1\u001b[39m)\n\u001b[1;32m      4\u001b[0m _\u001b[38;5;241m=\u001b[39mplt\u001b[38;5;241m.\u001b[39mimshow(probs,clim\u001b[38;5;241m=\u001b[39m(\u001b[38;5;241m0\u001b[39m,\u001b[38;5;241m1\u001b[39m),cmap\u001b[38;5;241m=\u001b[39m\u001b[38;5;124m'\u001b[39m\u001b[38;5;124mgray\u001b[39m\u001b[38;5;124m'\u001b[39m)\n",
      "\u001b[0;31mNameError\u001b[0m: name 'input_files' is not defined"
     ]
    }
   ],
   "source": [
    "k=2\n",
    "probs=predict_image(input_files[k],normalizacion,modelo,device)\n",
    "_=plt.subplot(1,2,1)\n",
    "_=plt.imshow(probs,clim=(0,1),cmap='gray')\n",
    "_=plt.title('Probabilidades')\n",
    "_=plt.subplot(1,2,2)\n",
    "img= plt.imread(input_files[k])\n",
    "_=plt.imshow(img)"
   ]
  },
  {
   "cell_type": "code",
   "execution_count": 8,
   "metadata": {},
   "outputs": [
    {
     "ename": "NameError",
     "evalue": "name 'input_files' is not defined",
     "output_type": "error",
     "traceback": [
      "\u001b[0;31m---------------------------------------------------------------------------\u001b[0m",
      "\u001b[0;31mNameError\u001b[0m                                 Traceback (most recent call last)",
      "Cell \u001b[0;32mIn[8], line 2\u001b[0m\n\u001b[1;32m      1\u001b[0m k\u001b[38;5;241m=\u001b[39m\u001b[38;5;241m33\u001b[39m\n\u001b[0;32m----> 2\u001b[0m probs\u001b[38;5;241m=\u001b[39mpredict_image(\u001b[43minput_files\u001b[49m[k],normalizacion,modelo,device)\n\u001b[1;32m      3\u001b[0m _\u001b[38;5;241m=\u001b[39mplt\u001b[38;5;241m.\u001b[39msubplot(\u001b[38;5;241m1\u001b[39m,\u001b[38;5;241m2\u001b[39m,\u001b[38;5;241m1\u001b[39m)\n\u001b[1;32m      4\u001b[0m _\u001b[38;5;241m=\u001b[39mplt\u001b[38;5;241m.\u001b[39mimshow(probs,clim\u001b[38;5;241m=\u001b[39m(\u001b[38;5;241m0\u001b[39m,\u001b[38;5;241m1\u001b[39m),cmap\u001b[38;5;241m=\u001b[39m\u001b[38;5;124m'\u001b[39m\u001b[38;5;124mgray\u001b[39m\u001b[38;5;124m'\u001b[39m)\n",
      "\u001b[0;31mNameError\u001b[0m: name 'input_files' is not defined"
     ]
    }
   ],
   "source": [
    "k=33\n",
    "probs=predict_image(input_files[k],normalizacion,modelo,device)\n",
    "_=plt.subplot(1,2,1)\n",
    "_=plt.imshow(probs,clim=(0,1),cmap='gray')\n",
    "_=plt.title('Probabilidades')\n",
    "_=plt.subplot(1,2,2)\n",
    "img= plt.imread(input_files[k])\n",
    "_=plt.imshow(img)"
   ]
  },
  {
   "cell_type": "code",
   "execution_count": null,
   "metadata": {},
   "outputs": [],
   "source": []
  }
 ],
 "metadata": {
  "kernelspec": {
   "display_name": "dnn5",
   "language": "python",
   "name": "python3"
  },
  "language_info": {
   "codemirror_mode": {
    "name": "ipython",
    "version": 3
   },
   "file_extension": ".py",
   "mimetype": "text/x-python",
   "name": "python",
   "nbconvert_exporter": "python",
   "pygments_lexer": "ipython3",
   "version": "3.12.4"
  }
 },
 "nbformat": 4,
 "nbformat_minor": 2
}
